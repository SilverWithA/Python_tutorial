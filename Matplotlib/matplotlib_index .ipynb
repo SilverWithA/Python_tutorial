{
 "cells": [
  {
   "cell_type": "markdown",
   "id": "7776ecea",
   "metadata": {},
   "source": [
    "## < matplotlib >"
   ]
  },
  {
   "cell_type": "markdown",
   "id": "e5729d0f",
   "metadata": {},
   "source": [
    "###  1. basic graph\n",
    "\n",
    "https://github.com/SilverWithA/Python_tutorial/blob/main/Matplotlib/Matplotlib(1)%20basic%20graph.ipynb\n",
    "\n",
    "* #### matplotlib 내장 폰트 서치, 한글 폰트 지정, '-' 기호 깨지는 문제 해결\n",
    "* #### 그래프 기본: line plot/ bar chart/pie chart/histogram/box plot/ scatter"
   ]
  },
  {
   "cell_type": "markdown",
   "id": "0c09a4a7",
   "metadata": {},
   "source": [
    "###  2. 여러 그래프 그리기\n",
    "\n",
    "https://github.com/SilverWithA/Python_tutorial/blob/main/Matplotlib/Matplotlib(2)_subplot%2Clegend%2C%20xlim.xtick.ipynb\n",
    "\n",
    "\n",
    "* #### 영역 나눠 그리기: plt.subplot()\n",
    "* #### 축라벨, 제목, 격자, 범례, 문자열 표시"
   ]
  },
  {
   "cell_type": "markdown",
   "id": "2ac426d9",
   "metadata": {},
   "source": [
    "###  3. 객체를 이용하여 여러 그래프 그리기:  plt.subplots\n",
    "\n",
    "https://github.com/SilverWithA/Python_tutorial/blob/main/Matplotlib/Matplotlib(3)%20subplots%2C%20fig%2Caxes.ipynb\n",
    "    \n"
   ]
  },
  {
   "cell_type": "markdown",
   "id": "1ecedf96",
   "metadata": {},
   "source": [
    "###  4. 막대 그래프 상세 옵션\n",
    "\n",
    "https://github.com/SilverWithA/Python_tutorial/blob/main/Matplotlib/Matplotlib(4)%20bar%20chart%20option.ipynb"
   ]
  },
  {
   "cell_type": "markdown",
   "id": "a0eb0751",
   "metadata": {},
   "source": [
    "###  5. 산점도 상세 옵션과 컬러맵\n",
    "\n",
    "https://github.com/SilverWithA/Python_tutorial/blob/main/Matplotlib/Matplotlib(5)%20scatter%20option.ipynb"
   ]
  },
  {
   "cell_type": "markdown",
   "id": "2c3d4094",
   "metadata": {},
   "source": [
    "###  6. 히트맵, seaborn으로 히트맵 그리기: sns.heatmap\n",
    "* #### 히스토그램 상세 옵션\n",
    "https://github.com/SilverWithA/Python_tutorial/blob/main/Matplotlib/Matplotlib(6)%20heatmap%20%26%20histogram.ipynb"
   ]
  },
  {
   "cell_type": "markdown",
   "id": "1a46c731",
   "metadata": {},
   "source": [
    "###  8. 파이차트 상세옵션\n",
    "\n",
    "https://github.com/SilverWithA/Python_tutorial/blob/main/Matplotlib/Matplotlib(8)%20pie%20chart.ipynb\n",
    "\n"
   ]
  },
  {
   "cell_type": "markdown",
   "id": "fed2d270",
   "metadata": {},
   "source": [
    "###  9. 그래프 영역 채워 표시하기\n",
    "\n",
    "https://github.com/SilverWithA/Python_tutorial/blob/main/Matplotlib/Matplotlib(9)%20fill_between.ipynb"
   ]
  },
  {
   "cell_type": "markdown",
   "id": "d3d327a6",
   "metadata": {},
   "source": [
    "###  10. 그래프에 텍스트와 화살표 추가하기\n",
    "\n",
    "https://github.com/SilverWithA/Python_tutorial/blob/main/Matplotlib/Matplotlib(10)%20text%2C%20annotate.ipynb"
   ]
  },
  {
   "cell_type": "markdown",
   "id": "4a5231e2",
   "metadata": {},
   "source": [
    "###  11. 2중 y축 그리기\n",
    "\n",
    "https://github.com/SilverWithA/Python_tutorial/blob/main/Matplotlib/Matplotlib(11)%20double%20y%20axis.ipynb"
   ]
  },
  {
   "cell_type": "markdown",
   "id": "69a129ce",
   "metadata": {},
   "source": []
  },
  {
   "cell_type": "code",
   "execution_count": null,
   "id": "81467a2a",
   "metadata": {},
   "outputs": [],
   "source": []
  }
 ],
 "metadata": {
  "kernelspec": {
   "display_name": "Python 3 (ipykernel)",
   "language": "python",
   "name": "python3"
  },
  "language_info": {
   "codemirror_mode": {
    "name": "ipython",
    "version": 3
   },
   "file_extension": ".py",
   "mimetype": "text/x-python",
   "name": "python",
   "nbconvert_exporter": "python",
   "pygments_lexer": "ipython3",
   "version": "3.10.9"
  }
 },
 "nbformat": 4,
 "nbformat_minor": 5
}
