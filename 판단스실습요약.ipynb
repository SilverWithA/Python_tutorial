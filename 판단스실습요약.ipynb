{
 "cells": [
  {
   "cell_type": "markdown",
   "id": "a193f3f4",
   "metadata": {},
   "source": [
    "## 판다스\n",
    "### 시리즈 다루기"
   ]
  },
  {
   "cell_type": "code",
   "execution_count": 3,
   "id": "ecf6576b",
   "metadata": {},
   "outputs": [
    {
     "data": {
      "text/plain": [
       "0    amy\n",
       "1    170\n",
       "2    124\n",
       "dtype: object"
      ]
     },
     "execution_count": 3,
     "metadata": {},
     "output_type": "execute_result"
    }
   ],
   "source": [
    "import pandas as pd\n",
    "\n",
    "s = pd.Series(['amy',170,124])\n",
    "s.index\n",
    "s"
   ]
  },
  {
   "cell_type": "code",
   "execution_count": 4,
   "id": "0f3c3c55",
   "metadata": {},
   "outputs": [
    {
     "data": {
      "text/plain": [
       "pandas.core.series.Series"
      ]
     },
     "execution_count": 4,
     "metadata": {},
     "output_type": "execute_result"
    }
   ],
   "source": [
    "type(s)"
   ]
  },
  {
   "cell_type": "code",
   "execution_count": 5,
   "id": "365cc6cd",
   "metadata": {},
   "outputs": [
    {
     "data": {
      "text/plain": [
       "a    amy\n",
       "b    170\n",
       "c    124\n",
       "dtype: object"
      ]
     },
     "execution_count": 5,
     "metadata": {},
     "output_type": "execute_result"
    }
   ],
   "source": [
    "s.index = ['a','b','c'] # 인덱스 지정하기\n",
    "\n",
    "s"
   ]
  },
  {
   "cell_type": "code",
   "execution_count": null,
   "id": "521156b0",
   "metadata": {},
   "outputs": [],
   "source": [
    "# 인덱스로 추출하기\n",
    "\n",
    "s.loc('인덱스 이름',[컬럼명 리스트])"
   ]
  },
  {
   "cell_type": "markdown",
   "id": "d1d438c0",
   "metadata": {},
   "source": [
    "### DataFrame 다루기"
   ]
  },
  {
   "cell_type": "markdown",
   "id": "113e2209",
   "metadata": {},
   "source": [
    "#### 새로운 열 추가\n",
    "df['new col'] = range(1, len(df)+1)"
   ]
  },
  {
   "cell_type": "markdown",
   "id": "899c8e82",
   "metadata": {},
   "source": [
    "#### 열 삭제\n",
    "df.drop(columns=['no','sum'], inplace=True)"
   ]
  },
  {
   "cell_type": "markdown",
   "id": "33f6dd89",
   "metadata": {},
   "source": [
    "#### 행 변경하기\n",
    "df = df.append(new_value, ignore_index =True)"
   ]
  },
  {
   "cell_type": "markdown",
   "id": "3c7cd708",
   "metadata": {},
   "source": [
    "df.loc[35] = new_value # 인덱스 지정하겨 데이터 추가, 수정"
   ]
  },
  {
   "cell_type": "markdown",
   "id": "08cdda42",
   "metadata": {},
   "source": [
    "##### 행 삭제 \n",
    "df.drop(index= [삭제할 행], inplace = True)"
   ]
  },
  {
   "cell_type": "markdown",
   "id": "54f8d4d2",
   "metadata": {},
   "source": [
    "##### 테이터 타입 확인\n",
    "df.dtypes() # 모든 열의 데이터 타입\n"
   ]
  },
  {
   "cell_type": "markdown",
   "id": "c94df810",
   "metadata": {},
   "source": [
    "##### df = df.astype('float64') #바꾸고자하는 타입"
   ]
  },
  {
   "cell_type": "markdown",
   "id": "35e68b90",
   "metadata": {},
   "source": [
    "### 자료형이 혼합된 컬럼을 숫자형으로 변경\n",
    "* pd.to_numeric(컬럼, **errors='ignore'**) : 숫자로 변경할 수 없는 값이 있으면 작업하지 않음\n",
    "* pd.to_numeric(컬럼, **errors='coerce'**) : 숫자로 변경할 수 없는 값이 NaN으로 설정\n",
    "* pd.to_numeric(컬럼, **errors='raise'**) :  숫자로 변경할 수 없는 값이 있으면 에러발생(default)"
   ]
  },
  {
   "cell_type": "markdown",
   "id": "c84b016b",
   "metadata": {},
   "source": [
    "## 시계열자료 다루기"
   ]
  },
  {
   "cell_type": "markdown",
   "id": "aa957347",
   "metadata": {},
   "source": [
    "### 시계열로 변환\n",
    "\n",
    "df['출생'] = df['출생'].astype(``'datetime64'``)\n",
    "\n",
    "\n",
    "df['사망'] = pd.``to_datetime``(df['사망'])"
   ]
  },
  {
   "cell_type": "markdown",
   "id": "7082a4b8",
   "metadata": {},
   "source": [
    "#### 연,월,일,분기 추출\n",
    "\n",
    "df['컬럼'].dt.year\n",
    "df['컬럼'].dt.month\n",
    "df['컬럼'].dt.day\n",
    "df['컬럼'].dt.quarter"
   ]
  },
  {
   "cell_type": "markdown",
   "id": "b60efe61",
   "metadata": {},
   "source": [
    "## 카테고리형 다루기"
   ]
  },
  {
   "cell_type": "markdown",
   "id": "af7ad4d7",
   "metadata": {},
   "source": [
    "#### 카테고리 형으로 변환\n",
    "df['grade'] = df['grade'].astype('category')"
   ]
  },
  {
   "cell_type": "markdown",
   "id": "f06ef3b2",
   "metadata": {},
   "source": [
    "#### 카테고리 이름 바꾸기\n",
    "df['grade'].cat.categories = ['a','b','c','d']\n",
    "\n",
    "#### 누락된 카테고리 추가\n",
    "df['grade'].cat.set_categories = ['a','b','c','d']"
   ]
  },
  {
   "cell_type": "markdown",
   "id": "027d0f5f",
   "metadata": {},
   "source": [
    "### 행을 열로 보내기\n",
    "\n",
    "df.``melt``(id_vars=[고정할 열이름리스트]) -> 고정한 열은 위치 그대로 유지"
   ]
  },
  {
   "cell_type": "markdown",
   "id": "53adc57c",
   "metadata": {},
   "source": [
    "### 열을 행으로 보내기\n",
    "\n",
    "df.``pivot``()"
   ]
  },
  {
   "cell_type": "markdown",
   "id": "b9825bde",
   "metadata": {},
   "source": [
    "### 행과 열 바꾸기\n",
    "\n",
    "df.``transpose``()"
   ]
  }
 ],
 "metadata": {
  "kernelspec": {
   "display_name": "Python 3 (ipykernel)",
   "language": "python",
   "name": "python3"
  },
  "language_info": {
   "codemirror_mode": {
    "name": "ipython",
    "version": 3
   },
   "file_extension": ".py",
   "mimetype": "text/x-python",
   "name": "python",
   "nbconvert_exporter": "python",
   "pygments_lexer": "ipython3",
   "version": "3.10.9"
  }
 },
 "nbformat": 4,
 "nbformat_minor": 5
}
