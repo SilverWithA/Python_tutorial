{
 "cells": [
  {
   "cell_type": "markdown",
   "id": "aaaf2deb",
   "metadata": {},
   "source": [
    "* #### 전화번호 앞자리로 통신사 판별(switch 기능을 구현하는 함수로 구현)\n",
    "* #### Python 에서는 switch함수 기능을 지원하지 않음\n",
    "* #### 참고: http://bitly.ws/Dwp9"
   ]
  },
  {
   "cell_type": "code",
   "execution_count": 2,
   "id": "13bbb43e",
   "metadata": {
    "scrolled": true
   },
   "outputs": [
    {
     "name": "stdout",
     "output_type": "stream",
     "text": [
      "011-5555-5555\n",
      "당신은 SKT 사용자입니다.\n"
     ]
    }
   ],
   "source": [
    "# get() 함수: 딕셔너리의 value반환하는 함수    \n",
    "#get(key, 해당 key가 없을때 반환할 값)\n",
    "\n",
    "def switch(key):\n",
    "  telecom = {\"011\" : \"SKT\", \"016\": \"KT\", \"019\" : \"LGU\"}.get(key, \"알 수 없는\")\n",
    "  print(f'당신은 {telecom} 사용자입니다.')\n",
    "\n",
    "firstNumber = input().split(\"-\")[0]\n",
    "switch(firstNumber)"
   ]
  },
  {
   "cell_type": "markdown",
   "id": "0af1dbcb",
   "metadata": {},
   "source": [
    "* ### Formating 추가\n",
    "#### 포맷 코드: \n",
    "#### d: 십진정수/ f: 부동소수점수/ s: 문자열\n",
    "#### :>10d 정수 10자리 필드에 왼쪽 정렬(부등호를 바꾸면 오른쪽 정렬)\n",
    "#### ^:10d - 가운데정렬\n",
    "#### :0.2f 부동소수점수를 두 자리 정밀도로 나타냄\n",
    "##### 참고:https://wikidocs.net/84390"
   ]
  },
  {
   "cell_type": "code",
   "execution_count": 53,
   "id": "2e5559a3",
   "metadata": {
    "scrolled": true
   },
   "outputs": [
    {
     "name": "stdout",
     "output_type": "stream",
     "text": [
      "       IBM        100      91.10\n"
     ]
    }
   ],
   "source": [
    "a, b, c = 'IBM',100,91.1\n",
    "print(f'{a:>10s} {b:>10d} {c:>10.2f}') # f-string 포맷 방법"
   ]
  },
  {
   "cell_type": "code",
   "execution_count": 55,
   "id": "f2b403f6",
   "metadata": {},
   "outputs": [
    {
     "data": {
      "text/plain": [
       "'       IBM        100      91.10'"
      ]
     },
     "execution_count": 55,
     "metadata": {},
     "output_type": "execute_result"
    }
   ],
   "source": [
    "# 딕셔너리 포맷팅\n",
    "# format_map(dict_name) 사용\n",
    "\n",
    "s = {\n",
    "    'name': 'IBM',\n",
    "    'shares': 100,\n",
    "    'price': 91.1\n",
    "}\n",
    "\n",
    "'{name:>10s} {shares:10d} {price:10.2f}'.format_map(s)"
   ]
  },
  {
   "cell_type": "code",
   "execution_count": 64,
   "id": "9c38cf17",
   "metadata": {},
   "outputs": [
    {
     "name": "stdout",
     "output_type": "stream",
     "text": [
      "42863.1000\n",
      "        42863.10\n",
      "42863.10        \n",
      "    42863.10    \n",
      "*******42,863.10\n"
     ]
    }
   ],
   "source": [
    "# * 숫자 포맷\n",
    "\n",
    "value = 42863.1\n",
    "print(f\"{value:0.4f}\") # 소수점 4번째까지 표기\n",
    "\n",
    "# 왼,오,중앙 정렬\n",
    "print(f\"{value:>16.2f}\")  #왼쪽\n",
    "print(f\"{value:<16.2f}\")  #오른쪽\n",
    "print(f\"{value:^16.2f}\")  #중앙\n",
    "\n",
    "print(f\"{value:*>16,.2f}\") #왼쪽정렬, 10자리 출력, 자릿수가 없으면 대신 *출력"
   ]
  },
  {
   "cell_type": "markdown",
   "id": "bfa9b09e",
   "metadata": {},
   "source": [
    "### (1) 파일 읽고 쓰기"
   ]
  },
  {
   "cell_type": "code",
   "execution_count": 21,
   "id": "1219257e",
   "metadata": {},
   "outputs": [],
   "source": [
    "# open() 과  close()\n",
    "# mode = 'r': 읽기 / 'w': 쓰기 / 'a': 파일 마지막에 새 내용 추가\n",
    "# 경로 역슬래시 사용시 가장 앞에 r을 추가한 형태로 사용 - r\"C:\\doit\\새파일.txt\"\n",
    "# 혹은 역슬래시 두개를 사용 가능\n",
    "\n",
    "\n",
    "f = open(\"C:\\\\Users\\\\Playdata\\\\새파일.txt\", 'w') # 디렉토리 = 저장장소\n",
    "for i in range(1,5):\n",
    "    data = \"%d 번째 줄입니다.\\n\" % i\n",
    "    f.write(data)\n",
    "f.close()\n"
   ]
  },
  {
   "cell_type": "code",
   "execution_count": 22,
   "id": "c4afa2fb",
   "metadata": {
    "scrolled": true
   },
   "outputs": [
    {
     "name": "stdout",
     "output_type": "stream",
     "text": [
      "1 번째 줄입니다.\n",
      "\n",
      "2 번째 줄입니다.\n",
      "\n",
      "3 번째 줄입니다.\n",
      "\n",
      "4 번째 줄입니다.\n",
      "\n"
     ]
    }
   ],
   "source": [
    "# readline() 사용하여 읽기 # line 하나만 가져옴\n",
    "# readlins()는 모든 라인을 가져옴\n",
    "\n",
    "f = open(\"C:\\\\Users\\\\Playdata\\\\새파일.txt\", 'r') # read모드로 꼭 불러와 readline()가능\n",
    "\n",
    "while True:\n",
    "    line = f.readline()\n",
    "    if not line: break\n",
    "    print(line)\n",
    "f.close()"
   ]
  },
  {
   "cell_type": "code",
   "execution_count": 25,
   "id": "5bf6daf2",
   "metadata": {},
   "outputs": [
    {
     "name": "stdout",
     "output_type": "stream",
     "text": [
      "1 번째 줄입니다.\n",
      "2 번째 줄입니다.\n",
      "3 번째 줄입니다.\n",
      "4 번째 줄입니다.\n",
      "\n"
     ]
    }
   ],
   "source": [
    "# f.read()는 파일의 내용 전체를 문자열로 리턴한다.\n",
    "\n",
    "f = open(\"C:\\\\Users\\\\Playdata\\\\새파일.txt\", 'r')\n",
    "data = f.read()\n",
    "print(data)\n",
    "f.close()"
   ]
  },
  {
   "cell_type": "code",
   "execution_count": 26,
   "id": "ebe0a3aa",
   "metadata": {},
   "outputs": [],
   "source": [
    "# with문 사용하기\n",
    "# with문을 벗어나면 열린 파일 객체 f가 자동으로 close됨\n",
    "\n",
    "with open(\"새파일.txt\",\"w\") as f:\n",
    "    f.write(\"Life is too short.\")\n"
   ]
  },
  {
   "cell_type": "markdown",
   "id": "36c81975",
   "metadata": {},
   "source": [
    "### (2) 클래스\n",
    "* #### 클래스의 객체와 매서드"
   ]
  },
  {
   "cell_type": "code",
   "execution_count": 2,
   "id": "3d9c0f85",
   "metadata": {},
   "outputs": [],
   "source": [
    "class cookies:  # cookies 클래스에 해당 \n",
    "    pass      # pass를 사용해 빈 클래스 생성\n",
    "\n",
    "a = cookies()   # a는 class cookie로 만든 객체(object)이다\n",
    "# a를 인스턴스라고 부른다"
   ]
  },
  {
   "cell_type": "code",
   "execution_count": 31,
   "id": "fb717704",
   "metadata": {},
   "outputs": [
    {
     "name": "stdout",
     "output_type": "stream",
     "text": [
      "4\n",
      "2\n"
     ]
    }
   ],
   "source": [
    "class FourCal1():\n",
    "    def setdata(self,first, second): # setdata() 함수는 class에 저장된 매서드이다\n",
    "        self.first = first\n",
    "        self.second = second\n",
    "\n",
    "a = FourCal1()\n",
    "a.setdata(4,2) # FourCal1.setdata(a,4,2)와 같음\n",
    "\n",
    "# a는 self에 할당\n",
    "# 4 는 first로 들어간다\n",
    "# 2 는 second로 들어간다\n",
    "\n",
    "\n",
    "print(a.first) \n",
    "print(a.second)"
   ]
  },
  {
   "cell_type": "markdown",
   "id": "6f174238",
   "metadata": {},
   "source": [
    "* ### 생성자(constructor)\n",
    "#### 클래스를 받는 객체가 생성될 때 자동으로 호출되는 매서드\n",
    "#### __init__(self)으로 구현하며 클래스에 해당하는 인스턴스가 생성할 때마다 초기화된다"
   ]
  },
  {
   "cell_type": "code",
   "execution_count": 7,
   "id": "c206c449",
   "metadata": {},
   "outputs": [
    {
     "name": "stdout",
     "output_type": "stream",
     "text": [
      "4\n",
      "2\n"
     ]
    }
   ],
   "source": [
    "class FourCal:\n",
    "    \n",
    "    def __init__(self,first,second): # __init__ 으로 구현. 이를 생성자라고 한다 \n",
    "        self.first = first\n",
    "        self.second = second\n",
    "        \n",
    "    def add(self):\n",
    "        result = self.first + self.second\n",
    "        return result\n",
    "    \n",
    "    def mul(self):\n",
    "        result = self.first * self.second\n",
    "        return result\n",
    "    \n",
    "    def sub(self):\n",
    "        result = self.first - self.second\n",
    "        return result\n",
    "    \n",
    "    def div(self):\n",
    "        result = self.first / self.second\n",
    "        return result\n",
    "\n",
    "        \n",
    "a = FourCal(4,2) # 따로 a.__init__ 의 형태로 지정해주지 않아도 def __init__() 호출\n",
    "\n",
    "\n",
    "\n",
    "print(a.first)\n",
    "print(a.second)"
   ]
  },
  {
   "cell_type": "markdown",
   "id": "a8876d4b",
   "metadata": {},
   "source": [
    "* ### 클래스 상속\n",
    "#### 기존의 클래스의 매서드를 새로운 클래스로 상속\n",
    "##### https://heytech.tistory.com/109"
   ]
  },
  {
   "cell_type": "code",
   "execution_count": 36,
   "id": "f22323f0",
   "metadata": {},
   "outputs": [],
   "source": [
    "# class 클래스 이름(상속할 클래스 이름) 형태로 사용\n",
    "\n",
    "class MoreCal(FourCal):   # 여기서  MoreCal은 FourCal의 자식 클래스가 된다.\n",
    "    pass"
   ]
  },
  {
   "cell_type": "markdown",
   "id": "2e90aa7b",
   "metadata": {},
   "source": [
    "* ### 매서드 오버라이딩(overriding:덮어쓰기)\n",
    "#### 기존 클래스에 존재하는 매서드를 덮어쓰는 방법\n",
    "#### FourCal 클래스에 존재하던 div() 매서드를 자식클래스 SafeFourCal 클래스에서 overriding 한 것"
   ]
  },
  {
   "cell_type": "code",
   "execution_count": 8,
   "id": "10388a38",
   "metadata": {},
   "outputs": [
    {
     "name": "stdout",
     "output_type": "stream",
     "text": [
      "0\n"
     ]
    }
   ],
   "source": [
    "# div() method에서 분모가 0일때 0을 반환하도록 매서드를 덮어쓰기\n",
    "\n",
    "class SafeFourCal(FourCal):\n",
    "    def div(self):\n",
    "        if self.second == 0:\n",
    "            return 0\n",
    "        else: return self.first / self.second\n",
    "        \n",
    "        \n",
    "a = SafeFourCal(4,0)\n",
    "print(a.div())"
   ]
  },
  {
   "cell_type": "markdown",
   "id": "cf6613af",
   "metadata": {},
   "source": [
    "* ### super()을 사용하여 오버라이드\n",
    "#### super().[메서드 이름](매개변수)를 사용하여 자식 클래스에서 add()매서드를 정의하면 부모 클래스에서 정의된 대로도 사용할 수 있다.\n",
    "##### 코드 참고: https://maincodes.tistory.com/111"
   ]
  },
  {
   "cell_type": "code",
   "execution_count": 13,
   "id": "8dd376fd",
   "metadata": {
    "scrolled": true
   },
   "outputs": [
    {
     "name": "stdout",
     "output_type": "stream",
     "text": [
      "부모 클래스의 attribute: silver\n",
      "자식 클래스의 attribute: 아무개\n",
      "\n",
      "이처럼 super()__init(name,age)를 사용하면 부모클래스의 attribute가 초기화되어 상속된다.\n",
      "\n",
      "자식 클래스의 attributes:{'job': 'footballplayer', 'level': 5, 'name': '아무개', 'age': 20}\n"
     ]
    }
   ],
   "source": [
    "#베이스 클래스(부모 클래스)\n",
    "class Person:\n",
    "    def __init__(self, name, age):\n",
    "        self.name = name\n",
    "        self.age = age\n",
    "        \n",
    "        \n",
    "#파생 클래스        \n",
    "class footballPlayer(Person):\n",
    "    def __init__(self, name, age, job, level): # super()을 사용하면\n",
    "        self.job = job           # self.name = name 등과 같은 코드 추가하지 않아도 됨.\n",
    "        self.level = level\n",
    "        super().__init__(name, age) #Person 클래스 초기화\n",
    "\n",
    "        \n",
    "a = Person(\"silver\",10)\n",
    "print(f\"부모 클래스의 attribute: {a.name}\")\n",
    "\n",
    "b= footballPlayer(\"아무개\", 20,\"footballplayer\",5)\n",
    "print(f\"자식 클래스의 attribute: {b.name}\")\n",
    "print()\n",
    "print(\"이처럼 super()__init(name,age)를 사용하면 부모클래스의 attribute가 초기화되어 상속된다.\")\n",
    "print()\n",
    "print(f\"자식 클래스의 attributes:{b.__dict__}\") # __dict__ 는 현재 인스턴스(b)에 할당된 인스턴스 속성을 출력합니다."
   ]
  },
  {
   "cell_type": "markdown",
   "id": "48201c37",
   "metadata": {},
   "source": [
    "* ### 클래서 캡슐화(Encapsulation)\n",
    "#### 클래스의 역할: 객체의 데이터와 내부 구현 세부사항을 캡슐화하는 것. \n",
    "#### 외부가 객체를 조작하는 데 사용할 퍼블릭(public) 인터페이스도 클래스에 정의해야 한다. 구현 세부사항과 퍼블릭 인터페이스를 구분하는 것이 중요하다. 파이썬에서는 클래스와 객체의 거의 모든 것이 오픈되어 있어 쉽게 엑세스하여 수정할 수 있다는 문제점이 있다."
   ]
  },
  {
   "cell_type": "markdown",
   "id": "3b04acb1",
   "metadata": {},
   "source": [
    "#### Attribute: 클래스 내 정의된 변수나 매서드를 의미"
   ]
  },
  {
   "cell_type": "code",
   "execution_count": 27,
   "id": "0994fa74",
   "metadata": {
    "scrolled": true
   },
   "outputs": [
    {
     "name": "stdout",
     "output_type": "stream",
     "text": [
      "0\n",
      "홍길동\n"
     ]
    }
   ],
   "source": [
    "# 변수 앞에 _를 덧붙여 프라이빗으로 표기하는 것이 관례\n",
    "\n",
    "class Person:\n",
    "    def __init__(self, name):\n",
    "        self._name = 0\n",
    "        \n",
    "p = Person(\"아무개\")\n",
    "print(p._name)    # 접근 가능\n",
    "p._name = \"홍길동\"\n",
    "print(p._name) # 수정가능"
   ]
  },
  {
   "cell_type": "code",
   "execution_count": 28,
   "id": "5a02ae83",
   "metadata": {},
   "outputs": [
    {
     "name": "stdout",
     "output_type": "stream",
     "text": [
      "03521\n"
     ]
    }
   ],
   "source": [
    "# 단순 attribute\n",
    "class Stock:\n",
    "    def __init__(self, name, codes, price):\n",
    "        self.name = name\n",
    "        self.codes = codes\n",
    "        self.price = price\n",
    "        \n",
    "s = Stock('Never',12151,100)\n",
    "s.codes = \"03521\"\n",
    "print(s.codes)"
   ]
  },
  {
   "cell_type": "code",
   "execution_count": 40,
   "id": "686ab3a1",
   "metadata": {},
   "outputs": [
    {
     "name": "stdout",
     "output_type": "stream",
     "text": [
      "50\n"
     ]
    }
   ],
   "source": [
    "# 이때 code에 숫자열이 들어올 경우 TypeError를 일으키고 싶다면\n",
    "# 관리 Attribute:  접근자인  accessor를 도입하는 방법\n",
    "\n",
    "\n",
    "class Stock:\n",
    "    def __init__(self, name, codes, price):\n",
    "        self.name = name\n",
    "        self.set_codes(codes)\n",
    "        self.price = price\n",
    "\n",
    "    # \"get\" 연산을 계층화하는 기능\n",
    "    def get_codes(self):\n",
    "        return self._codes\n",
    "\n",
    "    # \"set\" 연산을 계층화하는 기능\n",
    "    def set_codes(self, value):\n",
    "        if not isinstance(value, int):\n",
    "            raise TypeError('Expected an int')\n",
    "        self._codes = value\n",
    "        \n",
    "# 이렇게되면  기존 단순 어트리뷰트를 이용할때 s.codes = 50으로 끝나는 코드가\n",
    "# s.set_codes(50)가 되고 기존 코드가 깨진다\n",
    "\n",
    "s = Stock('Never',12151,100)\n",
    "s.set_codes(50)\n",
    "print(s._codes)"
   ]
  },
  {
   "cell_type": "code",
   "execution_count": null,
   "id": "ab8625ff",
   "metadata": {
    "scrolled": true
   },
   "outputs": [],
   "source": [
    "# 방법2. Property를 사용하는 방법\n",
    "# 기존 코드가 깨지지 않는다.\n",
    "\n",
    "\n",
    "class Stock:\n",
    "    def __init__(self, name, codes, price):\n",
    "        self.name = name\n",
    "        self.codes = codes\n",
    "        self.price = price\n",
    "\n",
    "    @property    # @(decorator): 데코레이션 뒤에 따라오는 함수 정의에 적용되는 수정자 지정\n",
    "    def codes(self):\n",
    "        return self.codes\n",
    "\n",
    "    @codes.setter\n",
    "    def codes(self, value):\n",
    "        if not isinstance(value, int):\n",
    "            raise TypeError('Expected int')\n",
    "        self._codes = value\n",
    "        \n",
    "        \n",
    "# 프로퍼티 액세스는 @property와 @shares.setter 하에서 \n",
    "# getter와 setter 메서드를 트리거한다.       \n",
    "\n",
    "s = Stock('Never',12151,100)\n",
    "print(s.codes)     #@property를 트리거\n",
    "s.codes = \"02135\"  #@codes.setter를 트리거"
   ]
  },
  {
   "cell_type": "code",
   "execution_count": 44,
   "id": "5b385424",
   "metadata": {},
   "outputs": [
    {
     "ename": "TypeError",
     "evalue": "'int' object is not callable",
     "output_type": "error",
     "traceback": [
      "\u001b[1;31m---------------------------------------------------------------------------\u001b[0m",
      "\u001b[1;31mTypeError\u001b[0m                                 Traceback (most recent call last)",
      "Cell \u001b[1;32mIn[44], line 13\u001b[0m\n\u001b[0;32m     10\u001b[0m         \u001b[38;5;28;01mreturn\u001b[39;00m \u001b[38;5;28mself\u001b[39m\u001b[38;5;241m.\u001b[39mcodes \u001b[38;5;241m*\u001b[39m \u001b[38;5;28mself\u001b[39m\u001b[38;5;241m.\u001b[39mprice\n\u001b[0;32m     12\u001b[0m s \u001b[38;5;241m=\u001b[39m Stock(\u001b[38;5;124m'\u001b[39m\u001b[38;5;124mGOOG\u001b[39m\u001b[38;5;124m'\u001b[39m, \u001b[38;5;241m100\u001b[39m, \u001b[38;5;241m400\u001b[39m)\n\u001b[1;32m---> 13\u001b[0m a \u001b[38;5;241m=\u001b[39m \u001b[43ms\u001b[49m\u001b[38;5;241;43m.\u001b[39;49m\u001b[43mshares\u001b[49m\u001b[43m(\u001b[49m\u001b[43m)\u001b[49m\n",
      "\u001b[1;31mTypeError\u001b[0m: 'int' object is not callable"
     ]
    }
   ],
   "source": [
    "# 계산된 데이터 attribute\n",
    "class Stock:\n",
    "    def __init__(self, name, codes, price): \n",
    "        __slots__ = ('name','_codes','price')  # __slot__을 추가하면 attribute 이름 집합 제한 가능\n",
    "                                               # 직접 s.shares= 100 형태로 새 attribute추가시 오류 발생\n",
    "        self.name = name\n",
    "        self.codes = codes\n",
    "        self.price = price\n",
    "\n",
    "    @property\n",
    "    def shares(self):\n",
    "        return self.codes * self.price\n",
    "    \n",
    "s = Stock('GOOG', 100, 400)\n",
    "a = s.shares()  # 매서드"
   ]
  },
  {
   "cell_type": "code",
   "execution_count": 45,
   "id": "36766ded",
   "metadata": {},
   "outputs": [
    {
     "name": "stdout",
     "output_type": "stream",
     "text": [
      "0\n",
      "nothing은 존재하지 않습니다.\n"
     ]
    }
   ],
   "source": [
    "# __getattr__: 존재하지 않는 attribute 호출시, 해당 매서드가 실행됨\n",
    "# 참고: https://076923.github.io/posts/Python-37/#%EB%A7%A4%EC%A7%81-%EB%A9%94%EC%84%9C%EB%93%9Cmagic-method\n",
    "\n",
    "\n",
    "class Name:\n",
    "    def __init__(self):\n",
    "        self.value = 0\n",
    "\n",
    "    def __getattr__(self, name):\n",
    "        return name + \"은 존재하지 않습니다.\"\n",
    "\n",
    "\n",
    "instance = Name()\n",
    "print(instance.value)\n",
    "print(instance.nothing)\n",
    "\n",
    "\n",
    "# __slot__ 은 속성 제한\n",
    "# __dir__는 속성 보기"
   ]
  },
  {
   "cell_type": "code",
   "execution_count": 48,
   "id": "8c6bdc11",
   "metadata": {},
   "outputs": [
    {
     "name": "stdout",
     "output_type": "stream",
     "text": [
      "{'name': 'GOOG', 'shares': 100, 'price': 490.1}\n"
     ]
    },
    {
     "data": {
      "text/plain": [
       "__main__.Stock"
      ]
     },
     "execution_count": 48,
     "metadata": {},
     "output_type": "execute_result"
    }
   ],
   "source": [
    "class Stock:\n",
    "    def __init__(self, name, shares, price):\n",
    "        self.name = name\n",
    "        self.shares = shares\n",
    "        self.price = price\n",
    "\n",
    "    def cost(self):\n",
    "        return self.shares * self.price\n",
    "\n",
    "    def sell(self, nshares):\n",
    "        self.shares -= nshares\n",
    "        \n",
    "s = Stock('GOOG', 100, 490.1)\n",
    "print(s.__dict__)\n",
    "s.__class__"
   ]
  },
  {
   "cell_type": "markdown",
   "id": "d3d8df8e",
   "metadata": {},
   "source": [
    "* ## staticmethod vs classmethod vs instance method"
   ]
  },
  {
   "cell_type": "markdown",
   "id": "0d133297",
   "metadata": {},
   "source": [
    "### staticmeethod: 정적 메서드\n",
    "####  instance method와 같이 self를 사용한 인스턴스화 하지 않고, method를 호출할 수 있다. 따라서 객체 필드와 독립적이지만 로직상 클래스내에 포함된다.\n",
    "#### 속성에 접근할 수 없기때문에 따로 사용하는 변수가 없다(ex. classmethod의 cls)\n",
    "#### 특징: self에서 독립적이다\n",
    "##### https://techblog-history-younghunjo1.tistory.com/217"
   ]
  },
  {
   "cell_type": "code",
   "execution_count": 38,
   "id": "7ca1c3b4",
   "metadata": {},
   "outputs": [
    {
     "name": "stdout",
     "output_type": "stream",
     "text": [
      "class variable\n"
     ]
    },
    {
     "data": {
      "text/plain": [
       "456"
      ]
     },
     "execution_count": 38,
     "metadata": {},
     "output_type": "execute_result"
    }
   ],
   "source": [
    "class Parent:\n",
    "    class_val = 'class variable'   \n",
    "    \n",
    "    def __init__(self):\n",
    "        self.name = 'sliver a'\n",
    "        self.age = 27\n",
    "        \n",
    "    @staticmethod\n",
    "    def check_name(name):   # self.name으로 변경하면 SyntaxError 발생\n",
    "        print(Parent.class_val)   # 클래스 변수 class_val에는 접근가능\n",
    "#         print(self.name)      # 하지만 인스턴스 메소드인 self.name에는 접근 불가\n",
    "        return name\n",
    "\n",
    "\n",
    "class Child(Parent):\n",
    "    pass\n",
    "\n",
    "Parent.check_name(456) # 인스턴스화 없이 매소드 호출\n",
    "\n",
    "# child = Child()\n",
    "# print(child.check_name('!!!!'))  # !!! 가 출력됨\n",
    "\n",
    "# print(child.name) # 이건 됨 sliver a 출력"
   ]
  },
  {
   "cell_type": "markdown",
   "id": "1c7f9622",
   "metadata": {},
   "source": [
    "### classmethod\n",
    "#### staticmethod와 유사하지만 cls 변수를 self처럼 사용하며, 부모 클래서의 변수와 메소드 -> 자식클래스에서도 선언 가능하다\n",
    "#### + 생성자 함수 포함 인스턴스 메소드 변수에 접근 불가능"
   ]
  },
  {
   "cell_type": "code",
   "execution_count": 42,
   "id": "96608f3a",
   "metadata": {},
   "outputs": [
    {
     "name": "stdout",
     "output_type": "stream",
     "text": [
      "other class variable\n",
      "other class variable\n"
     ]
    }
   ],
   "source": [
    "class Parent:\n",
    "    class_val = 'class variable'   \n",
    "    \n",
    "    def __init__(self):\n",
    "        self.name = 'euna'\n",
    "        self.age = 27\n",
    "        \n",
    "    @classmethod\n",
    "    def change_class_val(cls,other_val):\n",
    "        cls.class_val = other_val\n",
    "        print(cls.class_val)\n",
    "#         print(self.name)  # self.변수에 접근할 수 없음\n",
    "        return cls.class_val\n",
    "       \n",
    "class Child(Parent):\n",
    "#     print(Parent.class_val) # 부모클래스의 변수 선언 가능\n",
    "    pass\n",
    "\n",
    "parent = Parent()\n",
    "print(parent.change_class_val('other class variable'))\\"
   ]
  },
  {
   "cell_type": "code",
   "execution_count": 22,
   "id": "8c29ceaf",
   "metadata": {},
   "outputs": [
    {
     "name": "stdout",
     "output_type": "stream",
     "text": [
      "부모 클래스에서 선언할때:\\w Park jeong A Park jeong A\n",
      "\n",
      "자식 클래스에서 선언할때:\\w Park jeong A Park jeong A\n"
     ]
    }
   ],
   "source": [
    "#@staticmethod 로 선언할때\n",
    "\n",
    "class Parent:\n",
    "    name = 'Jeong eun A'\n",
    "    \n",
    "    @staticmethod\n",
    "    def change_name(new_name):\n",
    "        Parent.name = new_name\n",
    "        \n",
    "class Child(Parent):\n",
    "    pass\n",
    "\n",
    "parent = Parent()\n",
    "child = Child()\n",
    "\n",
    "\n",
    "parent.change_name(\"Park jeong A\")\n",
    "print(\"부모 클래스에서 선언할때:\\w\", parent.name, child.name)\n",
    "print()\n",
    "child.change_name(\"Park jeong A\")\n",
    "print(\"자식 클래스에서 선언할때:\\w\", parent.name, child.name)"
   ]
  },
  {
   "cell_type": "code",
   "execution_count": 23,
   "id": "722f5066",
   "metadata": {},
   "outputs": [
    {
     "name": "stdout",
     "output_type": "stream",
     "text": [
      "부모 클래스에서 선언할때:\\w Park jeong A Park jeong A\n",
      "\n",
      "자식 클래스에서 선언할때:\\w Park jeong A Kim jeong A\n"
     ]
    }
   ],
   "source": [
    "# @classmethod\n",
    "# 자식 클래스에서 선언 시, 자식 클래스만 바뀜(부모에 영향x)\n",
    "\n",
    "\n",
    "\n",
    "class Parent:\n",
    "    name = 'Jeong eun A'\n",
    "    \n",
    "    @classmethod\n",
    "    def change_name(cls, new_name):\n",
    "        cls.name = new_name\n",
    "        \n",
    "class Child(Parent):\n",
    "    pass\n",
    "\n",
    "parent = Parent()\n",
    "child = Child()\n",
    "\n",
    "\n",
    "parent.change_name(\"Park jeong A\")\n",
    "print(\"부모 클래스에서 선언할때:\\w\", parent.name, child.name)\n",
    "print()\n",
    "child.change_name(\"Kim jeong A\")\n",
    "print(\"자식 클래스에서 선언할때:\\w\", parent.name, child.name)"
   ]
  },
  {
   "cell_type": "markdown",
   "id": "9819ebea",
   "metadata": {},
   "source": [
    "### (3) 모듈(Module)\n",
    "#### 함수, 변수, 클래스를 모아 놓은 파이썬 파일"
   ]
  },
  {
   "cell_type": "code",
   "execution_count": 1,
   "id": "2c95d24d",
   "metadata": {
    "scrolled": true
   },
   "outputs": [
    {
     "name": "stdout",
     "output_type": "stream",
     "text": [
      "%PYTHONPATH%\n"
     ]
    }
   ],
   "source": [
    "!echo %PYTHONPATH%"
   ]
  },
  {
   "cell_type": "code",
   "execution_count": 18,
   "id": "a2f14166",
   "metadata": {},
   "outputs": [
    {
     "name": "stdout",
     "output_type": "stream",
     "text": [
      "Overwriting C:\\Users\\Playdata\\my_area.py\n"
     ]
    }
   ],
   "source": [
    "%%writefile C:\\Users\\Playdata\\my_area.py \n",
    "    \n",
    "#디렉토리에 .py파일 생성\n",
    "    \n",
    "Pi= 3.14\n",
    "def square_area(a):\n",
    "    return a **2\n",
    "    \n",
    "def circle_area(r):\n",
    "    return Pi * r **2"
   ]
  },
  {
   "cell_type": "code",
   "execution_count": 26,
   "id": "168c6d4a",
   "metadata": {
    "scrolled": true
   },
   "outputs": [
    {
     "name": "stdout",
     "output_type": "stream",
     "text": [
      "3.14\n"
     ]
    }
   ],
   "source": [
    "import my_area\n",
    "\n",
    "# print(Pi)  # 이렇게 사용x NameError 발생\n",
    "print(my_area.Pi)"
   ]
  },
  {
   "cell_type": "code",
   "execution_count": 27,
   "id": "1716b242",
   "metadata": {},
   "outputs": [
    {
     "name": "stdout",
     "output_type": "stream",
     "text": [
      "4\n",
      "12.56\n",
      "3.14\n"
     ]
    }
   ],
   "source": [
    "# import만 사용해 모듈을 불러오면 모듈명.변수 모듈명.함수() 식으로 사용해야해서 번거로움\n",
    "# 다음의 방법을 사용하면 변수, 함수()를 모듈명. 없이 사용가능하다\n",
    "\n",
    "\n",
    "\n",
    "from my_area import square_area # 특정 모듈 함수만 import\n",
    "print(square_area(2))\n",
    "from my_area import *          # * 은 \"모든 것\"이라는 뜻\n",
    "print(circle_area(2))\n",
    "print(Pi)"
   ]
  },
  {
   "cell_type": "code",
   "execution_count": 28,
   "id": "a4a13eaa",
   "metadata": {
    "scrolled": true
   },
   "outputs": [
    {
     "data": {
      "text/plain": [
       "['Pi',\n",
       " '__builtins__',\n",
       " '__cached__',\n",
       " '__doc__',\n",
       " '__file__',\n",
       " '__loader__',\n",
       " '__name__',\n",
       " '__package__',\n",
       " '__spec__',\n",
       " 'circle_area',\n",
       " 'square_area']"
      ]
     },
     "execution_count": 28,
     "metadata": {},
     "output_type": "execute_result"
    }
   ],
   "source": [
    "# 모듈 안에 모든 변수,함수,클래스 출력: dir()\n",
    "dir(my_area)"
   ]
  },
  {
   "cell_type": "code",
   "execution_count": null,
   "id": "787083db",
   "metadata": {},
   "outputs": [],
   "source": [
    "# 긴 모듈명을 별명으로 선언\n",
    "import 모듈명 as 별명\n",
    "# 별명.변수    별명.함수() 로 사용가능"
   ]
  },
  {
   "cell_type": "markdown",
   "id": "e0563658",
   "metadata": {},
   "source": [
    "* ### if __name__ == \"__main__\": 의 의미\n",
    "#### mod1.py에 if __name-- == \"__main__\": 추가\n",
    "#### import 해서 모듈을 사용하면 다음 절에 들어가는 코드는 실행되지 않는다"
   ]
  },
  {
   "cell_type": "code",
   "execution_count": 34,
   "id": "3c7852f9",
   "metadata": {},
   "outputs": [
    {
     "name": "stdout",
     "output_type": "stream",
     "text": [
      "Overwriting C:\\Users\\Playdata\\mod1.py\n"
     ]
    }
   ],
   "source": [
    "%%writefile C:\\Users\\Playdata\\mod1.py \n",
    "\n",
    "def add(a, b):\n",
    "    return a + b\n",
    "\n",
    "def sub(a, b): \n",
    "    return a-b\n",
    "\n",
    "if __name__ == \"__main__\":\n",
    "    print(add(1, 4))\n",
    "    print(sub(4, 2))\n",
    "else:         # import 되어 사용됟때 실행되는 코드\n",
    "    print(\"this is the module imported.\")\n"
   ]
  },
  {
   "cell_type": "code",
   "execution_count": 35,
   "id": "feee5e6c",
   "metadata": {},
   "outputs": [],
   "source": [
    "# 대화형 인터프리터나 다른 파일에서 모듈을 불러와 사용하면\n",
    "# __nane__ = \"__main__\" 이 False가 되므로 if절이 실행되지 않음\n",
    "\n",
    "import mod1\n",
    "\n",
    "mod1.add(3,4)\n"
   ]
  },
  {
   "cell_type": "code",
   "execution_count": null,
   "id": "e95545cb",
   "metadata": {},
   "outputs": [],
   "source": [
    "# sys.path 를 실행하면 파이썬 라이브러리가 설치되어 있는 디렉터리를 보여줌\n",
    "# sys.path.append(\"어떤 모듈이 저장된 다른 디렉토리\")를 할 경우 \n",
    "# 어떤 모듈이 기존 디렉토리에 없어도 불러와 사용가능 "
   ]
  },
  {
   "cell_type": "code",
   "execution_count": null,
   "id": "29384583",
   "metadata": {},
   "outputs": [],
   "source": [
    "# 환경변수 PYTHONPATH 사용하기\n",
    "# 이를 사용하면 디렉토리 이동 없이 모듈을 불러와 사용가능\n",
    "\n",
    "\n",
    "# C:\\doit>set PYTHONPATH=C:\\모듈이 들어있는 디렉토리\n",
    "# C:\\doit>python\n",
    "\n",
    "\n",
    "# import mod2\n",
    "# print(mod2.add(3,4))"
   ]
  },
  {
   "cell_type": "markdown",
   "id": "93bb52f8",
   "metadata": {},
   "source": [
    "* ### 내장모듈\n",
    "\n",
    "### 난수발생모듈: random"
   ]
  },
  {
   "cell_type": "code",
   "execution_count": 36,
   "id": "bb518d05",
   "metadata": {},
   "outputs": [
    {
     "data": {
      "text/plain": [
       "0.3952819527614848"
      ]
     },
     "execution_count": 36,
     "metadata": {},
     "output_type": "execute_result"
    }
   ],
   "source": [
    "import random\n",
    "random.random() # 0과 1 사이에 실수 "
   ]
  },
  {
   "cell_type": "code",
   "execution_count": 43,
   "id": "29abfde5",
   "metadata": {
    "scrolled": true
   },
   "outputs": [
    {
     "name": "stdout",
     "output_type": "stream",
     "text": [
      "2\n",
      "[4, 5]\n"
     ]
    }
   ],
   "source": [
    "random.randint(1,10)  # 1~10까지의 범위에서 정수 랜덤 변환\n",
    "random.randrange(0,10,2) # start, stop, step 순서\n",
    "print(random.choice([1,2,3])) # 시퀀스형의 elements 중 하나 반환,\n",
    "print(random.sample([1,2,3,4,5], 2)) # 시퀀스로 이뤄진 population 중에 k개의, 인자 반환\n"
   ]
  },
  {
   "cell_type": "markdown",
   "id": "8e5fdee1",
   "metadata": {},
   "source": [
    "### 정규표현식\n",
    "### re 모듈"
   ]
  },
  {
   "cell_type": "code",
   "execution_count": null,
   "id": "9dc5f7f0",
   "metadata": {},
   "outputs": [],
   "source": [
    "from re import *\n",
    "\n",
    "\n",
    "st1 = '1234 abc홍길동 ABC_555_6 이사도시'\n",
    "\n",
    "\n",
    "# 1) 숫자 찾기\n",
    "print(findall('1234', st1, flags=0)) # ['1234']\n",
    "print()\n",
    "print(findall('[0-9]', st1)) # ['1', '2', '3', '4', '5', '5', '5', '6']\n",
    "print()\n",
    "print(findall('[0-9]{3}', st1)) # {3}:숫자가 3개 연속된 패턴 ['123', '555']\n",
    "print()\n",
    "print(findall('[0-9]{3,}', st1)) # {3,}:숫자가 3개 이상 연속된 패턴 ['1234', '555']\n",
    "print()\n",
    "print(findall('\\\\d{3,}', st1)) # ['1234', '555']"
   ]
  },
  {
   "cell_type": "code",
   "execution_count": null,
   "id": "18e76fc4",
   "metadata": {},
   "outputs": [],
   "source": []
  },
  {
   "cell_type": "code",
   "execution_count": null,
   "id": "65c2b8ed",
   "metadata": {},
   "outputs": [],
   "source": []
  },
  {
   "cell_type": "markdown",
   "id": "22381311",
   "metadata": {},
   "source": [
    "### (4) 패키지\n",
    "#### **패키지란?** 파이썬 모듈을 디렉터리 구조로 계층적으로 관리할 수 있도록 해준다.\n",
    "#### 'package.module.class' 형태로 사용함\n"
   ]
  },
  {
   "cell_type": "markdown",
   "id": "8a95157e",
   "metadata": {},
   "source": [
    "##### 폴더(in 디렉터리) 안에 __init__.py 파일이 있으면 해당 폴더는 패키지로 인식됩니다. \n",
    "##### 그리고 기본적으로 __init__.py 파일의 내용은 비워 둘 수 있습니다. 보통 패키지를 초기화하는 코드를 넣을 수 있다.\n",
    "\n",
    "* #### 패키지 만들기"
   ]
  },
  {
   "cell_type": "code",
   "execution_count": 52,
   "id": "1daf32c9",
   "metadata": {},
   "outputs": [
    {
     "name": "stderr",
     "output_type": "stream",
     "text": [
      "하위 디렉터리 또는 파일 C:\\Users\\Playdata\\image이(가) 이미 있습니다.\n",
      "다음 내용 진행 중 오류 발생: C:\\Users\\Playdata\\image.\n",
      "하위 디렉터리 또는 파일 C:\\Users\\Playdata\\image\\io_file이(가) 이미 있습니다.\n",
      "다음 내용 진행 중 오류 발생: C:\\Users\\Playdata\\image\\io_file.\n"
     ]
    }
   ],
   "source": [
    "mkdir C:\\Users\\Playdata\\image; C:\\Users\\Playdata\\image\\io_file"
   ]
  },
  {
   "cell_type": "code",
   "execution_count": null,
   "id": "3c64bb76",
   "metadata": {},
   "outputs": [],
   "source": [
    "# File name:__intit.py를 생략하면 에러가 난다"
   ]
  },
  {
   "cell_type": "code",
   "execution_count": 60,
   "id": "32275eda",
   "metadata": {
    "scrolled": true
   },
   "outputs": [
    {
     "name": "stdout",
     "output_type": "stream",
     "text": [
      "Writing C:\\Users\\Playdata\\image\\__init__.py\n"
     ]
    }
   ],
   "source": [
    "%%writefile C:\\Users\\Playdata\\image\\__init__.py\n",
    "    # File name:__init__.py  "
   ]
  },
  {
   "cell_type": "code",
   "execution_count": 61,
   "id": "9e0112dc",
   "metadata": {
    "scrolled": true
   },
   "outputs": [
    {
     "name": "stdout",
     "output_type": "stream",
     "text": [
      "Writing C:\\Users\\Playdata\\image\\io_file\\__init__.py\n"
     ]
    }
   ],
   "source": [
    "%%writefile C:\\Users\\Playdata\\image\\io_file\\__init__.py\n",
    "     # File name:__init__.py  "
   ]
  },
  {
   "cell_type": "code",
   "execution_count": 67,
   "id": "a0f8980b",
   "metadata": {},
   "outputs": [
    {
     "name": "stdout",
     "output_type": "stream",
     "text": [
      "Overwriting C:\\Users\\Playdata\\image\\io_file\\imgread.py\n"
     ]
    }
   ],
   "source": [
    "%%writefile C:\\Users\\Playdata\\image\\io_file\\imgread.py\n",
    "    \n",
    "def pngread():\n",
    "    print(\"pngread in imread module\")\n",
    "        \n",
    "def jpgread():\n",
    "    print(\"jpread in imgread module\")"
   ]
  },
  {
   "cell_type": "code",
   "execution_count": null,
   "id": "60268374",
   "metadata": {},
   "outputs": [],
   "source": [
    "# 폴더구조와 파일 표시 !tree /F"
   ]
  },
  {
   "cell_type": "code",
   "execution_count": 76,
   "id": "44eb9597",
   "metadata": {
    "scrolled": false
   },
   "outputs": [],
   "source": [
    "# !tree /F c:\\Users\\Playdata"
   ]
  },
  {
   "cell_type": "markdown",
   "id": "2e9daf33",
   "metadata": {},
   "source": [
    "### 패키지 사용해보기"
   ]
  },
  {
   "cell_type": "code",
   "execution_count": 72,
   "id": "f9680bc5",
   "metadata": {},
   "outputs": [
    {
     "name": "stdout",
     "output_type": "stream",
     "text": [
      "pngread in imread module\n"
     ]
    }
   ],
   "source": [
    "import image.io_file.imgread\n",
    "# image 패키지 io_file 폴더의  imgread 모듈 import\n",
    "image.io_file.imgread.pngread()"
   ]
  },
  {
   "cell_type": "code",
   "execution_count": 74,
   "id": "2a2af31b",
   "metadata": {},
   "outputs": [
    {
     "name": "stdout",
     "output_type": "stream",
     "text": [
      "pngread in imread module\n",
      "jpread in imgread module\n"
     ]
    }
   ],
   "source": [
    "from image.io_file import imgread as im\n",
    "# image 패키지 io_file 폴더의  imgread 모듈 import\n",
    "\n",
    "im.pngread()\n",
    "im.jpgread()"
   ]
  },
  {
   "cell_type": "code",
   "execution_count": 75,
   "id": "03a29e38",
   "metadata": {},
   "outputs": [
    {
     "name": "stdout",
     "output_type": "stream",
     "text": [
      "pngread in imread module\n"
     ]
    }
   ],
   "source": [
    "from image.io_file.imgread import *\n",
    "\n",
    "pngread()"
   ]
  },
  {
   "cell_type": "markdown",
   "id": "7e39a7c1",
   "metadata": {},
   "source": [
    "### (5) 예외처리\n",
    "* ### try, except문"
   ]
  },
  {
   "cell_type": "code",
   "execution_count": null,
   "id": "1da1a10e",
   "metadata": {},
   "outputs": [],
   "source": [
    "try:\n",
    "    4/0\n",
    "except ZeroDivisionError as e:\n",
    "    print(e) # e에 담기는 오류메시지 출력"
   ]
  },
  {
   "cell_type": "code",
   "execution_count": null,
   "id": "ea01d1e9",
   "metadata": {},
   "outputs": [],
   "source": [
    "# 오류가 있어도 회피하기\n",
    "try:\n",
    "    f = open(\"나없는파일\", 'r')\n",
    "except FileNotFoundError:\n",
    "    pass"
   ]
  },
  {
   "cell_type": "code",
   "execution_count": null,
   "id": "b5bad918",
   "metadata": {},
   "outputs": [],
   "source": [
    "# 오류를 일부러 발생시키기\n",
    "# raise 명령어 사용"
   ]
  },
  {
   "cell_type": "markdown",
   "id": "e1867ebe",
   "metadata": {},
   "source": [
    "### (6) 내장함수"
   ]
  },
  {
   "cell_type": "markdown",
   "id": "4271cafc",
   "metadata": {},
   "source": [
    "* ### filter와 map 함수의 차이\n",
    "#### - map(func, iterable) : iterable한 데이터를 순서대로 func에 넣어 나오는 값을 반환하는 함수\n",
    "#### - filter(func, iterable): map과 동일하지만 func에서 True를 가지는 값만 return하여 데이터를 걸러줌"
   ]
  },
  {
   "cell_type": "code",
   "execution_count": 60,
   "id": "4d8ba4c2",
   "metadata": {},
   "outputs": [
    {
     "name": "stdout",
     "output_type": "stream",
     "text": [
      "[2, 3, 4, 5, 6]\n",
      "[2, 4]\n"
     ]
    }
   ],
   "source": [
    "target = [1, 2, 3, 4, 5] # 반복가능한 자료형(list); iterable\n",
    "\n",
    "result1 = map(lambda x : x+1, target)\n",
    "print(list(result1))\n",
    "\n",
    "result2 = filter(lambda x: x%2==0, target) # 짝수를 걸러줌\n",
    "print(list(result2))"
   ]
  },
  {
   "cell_type": "markdown",
   "id": "41c6b345",
   "metadata": {},
   "source": [
    "### (7) 표준 라이브러리\n",
    "* ### datetime"
   ]
  },
  {
   "cell_type": "code",
   "execution_count": null,
   "id": "13de16eb",
   "metadata": {},
   "outputs": [],
   "source": [
    "# data 클래스: 날짜표현\n",
    "# time 클래스: 시간표현\n",
    "# datetime 클래스\n",
    "\n",
    "\n",
    "import datetime\n",
    "day1 = datetime.date(2023,12,14)\n",
    "day2 = datetime.date(2023,12,24)\n",
    "print(day1)\n",
    "print(day1.day) # 날짜만 추출가능 # year, month로 연도와 달도 추출가능\n",
    "\n",
    "diff = day2 - day1   # 빼기 연산 가능\n",
    "print(diff.days)\n",
    "print(type(day1))\n"
   ]
  },
  {
   "cell_type": "code",
   "execution_count": 50,
   "id": "a87dc701",
   "metadata": {},
   "outputs": [
    {
     "name": "stdout",
     "output_type": "stream",
     "text": [
      "2023-04-28 14:51:03.553130\n",
      "Date:2023-04-28\n",
      "Date:14-51-03\n"
     ]
    }
   ],
   "source": [
    "now = datetime.datetime.now()\n",
    "print(now)  # 현재 날짜 현재 시간 출력\n",
    "\n",
    "print(\"Date:{:%Y-%m-%d}\".format(now)) # 날짜 formatting\n",
    "print(\"Date:{:%H-%M-%S}\".format(now)) # 시간 formatting"
   ]
  },
  {
   "cell_type": "markdown",
   "id": "cdbe67d2",
   "metadata": {},
   "source": [
    "* ####  glob(pathname)- 디렉터리에 있는 파일들을 리스트로 만들기"
   ]
  },
  {
   "cell_type": "code",
   "execution_count": 83,
   "id": "fdbe25cd",
   "metadata": {},
   "outputs": [
    {
     "data": {
      "text/plain": [
       "['C:/Users/Playdata\\\\Day3_230426.ipynb']"
      ]
     },
     "execution_count": 83,
     "metadata": {},
     "output_type": "execute_result"
    }
   ],
   "source": [
    "import glob\n",
    "glob.glob(\"C:/Users/Playdata/Day*\") # \"/\"구분자를 사용해야 에러안남"
   ]
  },
  {
   "cell_type": "markdown",
   "id": "ab4a60b9",
   "metadata": {},
   "source": [
    "* ### os모듈\n",
    "#### : 환경 변수나 디렉터리, 파일 등의 OS 자원을 제어할 수 있게 해주는 모듈이다.\n",
    "#### glob 모듈은 디렉터리 안의 파일들을 읽어서 리턴한다. *, ? 등 메타 문자를 써서 원하는 파일만 읽어 들일 수도 있다."
   ]
  },
  {
   "cell_type": "code",
   "execution_count": 2,
   "id": "e6fd329a",
   "metadata": {
    "scrolled": true
   },
   "outputs": [
    {
     "data": {
      "text/plain": [
       "'C:\\\\Users\\\\Playdata\\\\anaconda3;C:\\\\Users\\\\Playdata\\\\anaconda3\\\\Library\\\\mingw-w64\\\\bin;C:\\\\Users\\\\Playdata\\\\anaconda3\\\\Library\\\\usr\\\\bin;C:\\\\Users\\\\Playdata\\\\anaconda3\\\\Library\\\\bin;C:\\\\Users\\\\Playdata\\\\anaconda3\\\\Scripts;C:\\\\Users\\\\Playdata\\\\anaconda3\\\\bin;C:\\\\Users\\\\Playdata\\\\anaconda3\\\\condabin;C:\\\\Users\\\\Playdata\\\\anaconda3;C:\\\\Users\\\\Playdata\\\\anaconda3\\\\Library\\\\mingw-w64\\\\bin;C:\\\\Users\\\\Playdata\\\\anaconda3\\\\Library\\\\usr\\\\bin;C:\\\\Users\\\\Playdata\\\\anaconda3\\\\Library\\\\bin;C:\\\\Users\\\\Playdata\\\\anaconda3\\\\Scripts;C:\\\\WINDOWS\\\\system32;C:\\\\WINDOWS;C:\\\\WINDOWS\\\\System32\\\\Wbem;C:\\\\WINDOWS\\\\System32\\\\WindowsPowerShell\\\\v1.0;C:\\\\WINDOWS\\\\System32\\\\OpenSSH;C:\\\\Program Files\\\\Git\\\\cmd;C:\\\\Users\\\\Playdata\\\\AppData\\\\Local\\\\Microsoft\\\\WindowsApps;.'"
      ]
     },
     "execution_count": 2,
     "metadata": {},
     "output_type": "execute_result"
    }
   ],
   "source": [
    "import os\n",
    "os.environ # 현재 시스템의 환경 변수 값을 리턴\n",
    "os.environ['PATH'] # 'PATH' 환경 변수의 값만 리턴"
   ]
  },
  {
   "cell_type": "code",
   "execution_count": 4,
   "id": "e7c06326",
   "metadata": {},
   "outputs": [
    {
     "data": {
      "text/plain": [
       "'C:\\\\Users\\\\Playdata'"
      ]
     },
     "execution_count": 4,
     "metadata": {},
     "output_type": "execute_result"
    }
   ],
   "source": [
    "os.getcwd() # 현 파일의 디렉토리 확인\n",
    "\n",
    "# os.mkdir(\"test1\") # test1 이라는 폴더생성\n",
    "# os.listdir()  # 디렉토리의 파일 list"
   ]
  },
  {
   "cell_type": "code",
   "execution_count": 95,
   "id": "cc1eb407",
   "metadata": {},
   "outputs": [],
   "source": [
    "os.chdir(\"변경하고 싶은 디렉토리 위치 입력\") # 디렉토리 위치변경"
   ]
  },
  {
   "cell_type": "markdown",
   "id": "71ce7d3e",
   "metadata": {},
   "source": [
    "* ### traceback: 발생 오류 추적\n",
    "#### format_exc() : 오류 추적 결과를 문자열로 리턴하는 함수"
   ]
  },
  {
   "cell_type": "code",
   "execution_count": 89,
   "id": "b9433b28",
   "metadata": {},
   "outputs": [
    {
     "name": "stdout",
     "output_type": "stream",
     "text": [
      "오류가 발생했습니다.\n",
      "Traceback (most recent call last):\n",
      "  File \"C:\\Users\\Playdata\\AppData\\Local\\Temp\\ipykernel_9072\\1865238754.py\", line 11, in main\n",
      "    b()\n",
      "  File \"C:\\Users\\Playdata\\AppData\\Local\\Temp\\ipykernel_9072\\1865238754.py\", line 7, in b\n",
      "    a()\n",
      "  File \"C:\\Users\\Playdata\\AppData\\Local\\Temp\\ipykernel_9072\\1865238754.py\", line 4, in a\n",
      "    return 1/0\n",
      "ZeroDivisionError: division by zero\n",
      "\n"
     ]
    }
   ],
   "source": [
    "import traceback\n",
    "\n",
    "def a():\n",
    "    return 1/0\n",
    "\n",
    "def b():\n",
    "    a()\n",
    "\n",
    "def main():\n",
    "    try:\n",
    "        b()\n",
    "    except:\n",
    "        print(\"오류가 발생했습니다.\")\n",
    "        print(traceback.format_exc()) \n",
    "\n",
    "main()"
   ]
  },
  {
   "cell_type": "markdown",
   "id": "109e6a6d",
   "metadata": {},
   "source": [
    "* #### Webbrowser\n",
    "#### 파이썬 프로그램에서 시스템 브라우저를 호출할 때 사용"
   ]
  },
  {
   "cell_type": "code",
   "execution_count": 77,
   "id": "b63ec65d",
   "metadata": {},
   "outputs": [
    {
     "data": {
      "text/plain": [
       "True"
      ]
     },
     "execution_count": 77,
     "metadata": {},
     "output_type": "execute_result"
    }
   ],
   "source": [
    "import webbrowser\n",
    "\n",
    "webbrowser.open_new('http://python.org')"
   ]
  },
  {
   "cell_type": "markdown",
   "id": "2cce5e54",
   "metadata": {},
   "source": [
    "## 실용 파이썬 프로그래밍: 프로그래밍 유경험자를 위한 강좌\n",
    "### 2. 데이터 작업하기\n",
    "### 2-4 시퀀스"
   ]
  },
  {
   "cell_type": "code",
   "execution_count": 75,
   "id": "c3a9d35f",
   "metadata": {},
   "outputs": [
    {
     "data": {
      "text/plain": [
       "dict_items([('GOOG', 490.1), ('AA', 23.45), ('IBM', 91.1), ('MSFT', 34.23)])"
      ]
     },
     "execution_count": 75,
     "metadata": {},
     "output_type": "execute_result"
    }
   ],
   "source": [
    "# 딕셔너리 뒤집기\n",
    "prices = {\n",
    "        'GOOG' : 490.1,\n",
    "        'AA' : 23.45,\n",
    "        'IBM' : 91.1,\n",
    "        'MSFT' : 34.23\n",
    "    }\n",
    "\n",
    "prices.items()"
   ]
  },
  {
   "cell_type": "code",
   "execution_count": 79,
   "id": "287f4204",
   "metadata": {},
   "outputs": [
    {
     "data": {
      "text/plain": [
       "{490.1: 'GOOG', 23.45: 'AA', 91.1: 'IBM', 34.23: 'MSFT'}"
      ]
     },
     "execution_count": 79,
     "metadata": {},
     "output_type": "execute_result"
    }
   ],
   "source": [
    "dict(zip(prices.values(),prices.keys())) \n",
    "# 딕셔너리는 순서가 없는 데이터"
   ]
  },
  {
   "cell_type": "markdown",
   "id": "cff30a85",
   "metadata": {},
   "source": [
    "### 2.5. collection 모듈로 카운트하기"
   ]
  },
  {
   "cell_type": "code",
   "execution_count": 104,
   "id": "324661ab",
   "metadata": {},
   "outputs": [
    {
     "name": "stdout",
     "output_type": "stream",
     "text": [
      "Counter({'l': 3, 'o': 2, 'w': 2, 'h': 1, 'e': 1, ' ': 1, 'r': 1, 'd': 1})\n",
      "Counter({'l': 4, 'o': 2, 'w': 2, 'e': 1, ' ': 1, 'r': 1, 'd': 1, 'h': 0})\n",
      "[('l', 4)]\n"
     ]
    }
   ],
   "source": [
    "# Counter 사용법\n",
    "# 데이터 빈도 \n",
    "from collections import Counter\n",
    "\n",
    "\n",
    "counter = Counter(\"hellow world\")\n",
    "counter[\"o\"], counter[\"l\"]\n",
    "print(counter)\n",
    "\n",
    "counter[\"l\"] += 1\n",
    "counter[\"h\"] -= 1\n",
    "print(counter)\n",
    "\n",
    "print(counter.most_common(1)) # 가장 빈도가 多인 값 출력\n",
    "\n",
    "\n"
   ]
  },
  {
   "cell_type": "code",
   "execution_count": 80,
   "id": "054b6ef7",
   "metadata": {},
   "outputs": [],
   "source": [
    "# collection 모듈로 카운트하기\n",
    "\n",
    "portfolio = [\n",
    "    ('GOOG', 100, 490.1),\n",
    "    ('IBM', 50, 91.1),\n",
    "    ('CAT', 150, 83.44),\n",
    "    ('IBM', 100, 45.23),\n",
    "    ('GOOG', 75, 572.45),\n",
    "    ('AA', 50, 23.15)\n",
    "]\n",
    "\n",
    "\n",
    "total_shares = Counter()\n",
    "for name, shares, price in portfolio:\n",
    "    total_shares[name] += shares # name이 들어가는 자리에 shares로 갱신\n",
    "    \n",
    "total_shares[\"IBM\"]"
   ]
  },
  {
   "cell_type": "code",
   "execution_count": 84,
   "id": "68716b06",
   "metadata": {},
   "outputs": [
    {
     "data": {
      "text/plain": [
       "[(50, 91.1), (100, 45.23)]"
      ]
     },
     "execution_count": 84,
     "metadata": {},
     "output_type": "execute_result"
    }
   ],
   "source": [
    "# 하지만 이때 portfolio 안에 \"IBM\"을 키로 갖는 튜블이 두 개임\n",
    "# 해결법 defaultdict를 사용한다\n",
    "\n",
    "\n",
    "from collections import defaultdict\n",
    "holdings = defaultdict(list)   # 디폴트가 list인 딕셔너리\n",
    "for name, shares, price in portfolio:\n",
    "    holdings[name].append((shares,price))\n",
    "holdings['IBM']"
   ]
  },
  {
   "cell_type": "code",
   "execution_count": 90,
   "id": "8fbfc14e",
   "metadata": {},
   "outputs": [
    {
     "name": "stdout",
     "output_type": "stream",
     "text": [
      "defaultdict(<class 'list'>, {'key1': [], 'key2': 'test'})\n"
     ]
    }
   ],
   "source": [
    "# defaultdict\n",
    "\n",
    "list_dict = defaultdict(list)\n",
    "list_dict\n",
    "list_dict[\"key1\"]\n",
    "list_dict[\"key2\"] = \"test\"\n",
    "print(list_dict)  # key1은 아무값도 지정해주지 않았으므로 빈 리스트로 초기화"
   ]
  },
  {
   "cell_type": "markdown",
   "id": "71822e0c",
   "metadata": {},
   "source": [
    "### 2.6 list comprehension"
   ]
  },
  {
   "cell_type": "code",
   "execution_count": 93,
   "id": "acd9656e",
   "metadata": {},
   "outputs": [
    {
     "name": "stdout",
     "output_type": "stream",
     "text": [
      "[1, 2, 3, 4, 5, 1, 2, 3, 4, 5]\n",
      "[2, 4, 6, 8, 10]\n"
     ]
    }
   ],
   "source": [
    "# list comprehension\n",
    "# 일반적인 구문: [ <표현식> for <변수명> in <시퀀스> if <조건문>].\n",
    "\n",
    "a = [1, 2, 3, 4, 5]\n",
    "print(a*2)\n",
    "\n",
    "b = [x*2 for x in a]\n",
    "print(b)"
   ]
  },
  {
   "cell_type": "code",
   "execution_count": 95,
   "id": "bfc5923d",
   "metadata": {},
   "outputs": [
    {
     "data": {
      "text/plain": [
       "[2, 8, 4, 20]"
      ]
     },
     "execution_count": 95,
     "metadata": {},
     "output_type": "execute_result"
    }
   ],
   "source": [
    "# 필터링\n",
    "a = [1, -5, 4, 2, -2, 10]\n",
    "b = [x*2 for x in a if x>0]\n",
    "b"
   ]
  },
  {
   "cell_type": "markdown",
   "id": "857bdde5",
   "metadata": {},
   "source": [
    "### 3. 프로그램 조직화\n",
    "### 3-1. 스크립팅\n",
    "#### 함수 설계: 함수는 블랙 박스(black box)로 간주하는 것이 이상적이다. 전달된 입력만 가지고 연산을 하며 글로벌 변수의 사용이나 신비한 부작용을 배제해야 한다. 모듈화(Modularity)와 예측가능성(Predictability)을 목표로 하라.\n",
    "\n",
    "#### 문서 문자열(Doc Strings)"
   ]
  },
  {
   "cell_type": "code",
   "execution_count": 78,
   "id": "44ff9dac",
   "metadata": {},
   "outputs": [],
   "source": [
    "def read_prices(filename):\n",
    "    \"\"\"CSV 파일에서 이름과 가격 데이터를 읽음\"\"\"   # doc-string에 해당\n",
    "    prices = {}\n",
    "    with open(filename) as f:\n",
    "        f_csv = csv.reader(f)\n",
    "        for row in f_csv:\n",
    "            prices[row[0]] = float(row[1])\n",
    "    return prices"
   ]
  },
  {
   "cell_type": "code",
   "execution_count": null,
   "id": "3c374c1b",
   "metadata": {},
   "outputs": [],
   "source": [
    "# 타입 애너테이션(Type Annotations)\n",
    "# 함수 정의에 선택적인 타입 힌트(type hint)를 추가할 수 있다.\n",
    "# 실제로 연산x 단순 정보성 코드\n",
    "\n",
    "def read_prices(filename: str) -> dict:  # 파라미터와 returrn값의 타입 힌트 추가\n",
    "    '''\n",
    "    CSV 파일에서 이름과 가격 데이터를 읽음\n",
    "    '''\n",
    "    prices = {}\n",
    "    with open(filename) as f:\n",
    "        f_csv = csv.reader(f)\n",
    "        for row in f_csv:\n",
    "            prices[row[0]] = float(row[1])\n",
    "    return prices"
   ]
  }
 ],
 "metadata": {
  "kernelspec": {
   "display_name": "Python 3 (ipykernel)",
   "language": "python",
   "name": "python3"
  },
  "language_info": {
   "codemirror_mode": {
    "name": "ipython",
    "version": 3
   },
   "file_extension": ".py",
   "mimetype": "text/x-python",
   "name": "python",
   "nbconvert_exporter": "python",
   "pygments_lexer": "ipython3",
   "version": "3.10.9"
  }
 },
 "nbformat": 4,
 "nbformat_minor": 5
}
